{
 "cells": [
  {
   "cell_type": "code",
   "execution_count": null,
   "id": "a6877171",
   "metadata": {},
   "outputs": [
    {
     "name": "stdout",
     "output_type": "stream",
     "text": [
      "/Users/m_masoor/Desktop/data_science_projects/.venv/bin/python\n",
      "pandas: 2.3.2 numpy: 2.3.2\n"
     ]
    }
   ],
   "source": [
    "import sys, pandas as pd\n",
    "import numpy as np\n",
    "import matplotlib.pyplot as plt\n",
    "\n",
    "pd.set_option(\"display.max_colwidth\", 120)\n",
    "pd.set_option(\"display.width\", 120)\n",
    "print(sys.executable)\n",
    "print(\"pandas:\", pd.__version__, \"numpy:\", np.__version__)\n",
    "\n"
   ]
  },
  {
   "cell_type": "code",
   "execution_count": 73,
   "id": "4df19590",
   "metadata": {},
   "outputs": [
    {
     "name": "stdout",
     "output_type": "stream",
     "text": [
      "Shape (rows, columns) :  (195, 4)\n",
      "\n",
      "Column names: \n",
      "['Date', 'Company', 'Person Name', 'Room number']\n",
      "First 5 rows of the dataset: \n"
     ]
    },
    {
     "data": {
      "text/html": [
       "<div>\n",
       "<style scoped>\n",
       "    .dataframe tbody tr th:only-of-type {\n",
       "        vertical-align: middle;\n",
       "    }\n",
       "\n",
       "    .dataframe tbody tr th {\n",
       "        vertical-align: top;\n",
       "    }\n",
       "\n",
       "    .dataframe thead th {\n",
       "        text-align: right;\n",
       "    }\n",
       "</style>\n",
       "<table border=\"1\" class=\"dataframe\">\n",
       "  <thead>\n",
       "    <tr style=\"text-align: left;\">\n",
       "      <th></th>\n",
       "      <th>Date</th>\n",
       "      <th>Company</th>\n",
       "      <th>Person Name</th>\n",
       "      <th>Room number</th>\n",
       "    </tr>\n",
       "  </thead>\n",
       "  <tbody>\n",
       "    <tr>\n",
       "      <th>0</th>\n",
       "      <td>1-Jan-2022</td>\n",
       "      <td>Avamba</td>\n",
       "      <td>Anatole Ridehalgh</td>\n",
       "      <td>4008.0</td>\n",
       "    </tr>\n",
       "    <tr>\n",
       "      <th>1</th>\n",
       "      <td>1-Jan-2022</td>\n",
       "      <td>Fatz</td>\n",
       "      <td>Aldrich McKevin</td>\n",
       "      <td>2002.0</td>\n",
       "    </tr>\n",
       "    <tr>\n",
       "      <th>2</th>\n",
       "      <td>1-Jan-2022</td>\n",
       "      <td>Leexo</td>\n",
       "      <td>Stanley Hadrill</td>\n",
       "      <td>4012.0</td>\n",
       "    </tr>\n",
       "    <tr>\n",
       "      <th>3</th>\n",
       "      <td>Hotels</td>\n",
       "      <td>NaN</td>\n",
       "      <td>NaN</td>\n",
       "      <td>NaN</td>\n",
       "    </tr>\n",
       "    <tr>\n",
       "      <th>4</th>\n",
       "      <td>1-Jan-2022</td>\n",
       "      <td>Rhyzio</td>\n",
       "      <td>Lyndell Tice</td>\n",
       "      <td>1006.0</td>\n",
       "    </tr>\n",
       "  </tbody>\n",
       "</table>\n",
       "</div>"
      ],
      "text/plain": [
       "  Date        Company Person Name         Room number\n",
       "0  1-Jan-2022  Avamba  Anatole Ridehalgh  4008.0     \n",
       "1  1-Jan-2022    Fatz    Aldrich McKevin  2002.0     \n",
       "2  1-Jan-2022   Leexo    Stanley Hadrill  4012.0     \n",
       "3      Hotels     NaN                NaN     NaN     \n",
       "4  1-Jan-2022  Rhyzio       Lyndell Tice  1006.0     "
      ]
     },
     "metadata": {},
     "output_type": "display_data"
    },
    {
     "name": "stdout",
     "output_type": "stream",
     "text": [
      "Last 5 rows of the dataset: \n"
     ]
    },
    {
     "data": {
      "text/html": [
       "<div>\n",
       "<style scoped>\n",
       "    .dataframe tbody tr th:only-of-type {\n",
       "        vertical-align: middle;\n",
       "    }\n",
       "\n",
       "    .dataframe tbody tr th {\n",
       "        vertical-align: top;\n",
       "    }\n",
       "\n",
       "    .dataframe thead th {\n",
       "        text-align: right;\n",
       "    }\n",
       "</style>\n",
       "<table border=\"1\" class=\"dataframe\">\n",
       "  <thead>\n",
       "    <tr style=\"text-align: left;\">\n",
       "      <th></th>\n",
       "      <th>Date</th>\n",
       "      <th>Company</th>\n",
       "      <th>Person Name</th>\n",
       "      <th>Room number</th>\n",
       "    </tr>\n",
       "  </thead>\n",
       "  <tbody>\n",
       "    <tr>\n",
       "      <th>190</th>\n",
       "      <td>Cleartrip</td>\n",
       "      <td>NaN</td>\n",
       "      <td>NaN</td>\n",
       "      <td>NaN</td>\n",
       "    </tr>\n",
       "    <tr>\n",
       "      <th>191</th>\n",
       "      <td>1-Jan-2022</td>\n",
       "      <td>Fivechat</td>\n",
       "      <td>Corabella Saye</td>\n",
       "      <td>4008.0</td>\n",
       "    </tr>\n",
       "    <tr>\n",
       "      <th>192</th>\n",
       "      <td>1-Jan-2022</td>\n",
       "      <td>Innojam</td>\n",
       "      <td>Leandra Potapczuk</td>\n",
       "      <td>5002.0</td>\n",
       "    </tr>\n",
       "    <tr>\n",
       "      <th>193</th>\n",
       "      <td>1-Jan-2022</td>\n",
       "      <td>Twitterworks</td>\n",
       "      <td>Valentia Ledson</td>\n",
       "      <td>1010.0</td>\n",
       "    </tr>\n",
       "    <tr>\n",
       "      <th>194</th>\n",
       "      <td>Hotels</td>\n",
       "      <td>NaN</td>\n",
       "      <td>NaN</td>\n",
       "      <td>NaN</td>\n",
       "    </tr>\n",
       "  </tbody>\n",
       "</table>\n",
       "</div>"
      ],
      "text/plain": [
       "    Date        Company       Person Name         Room number\n",
       "190   Cleartrip           NaN                NaN     NaN     \n",
       "191  1-Jan-2022      Fivechat     Corabella Saye  4008.0     \n",
       "192  1-Jan-2022       Innojam  Leandra Potapczuk  5002.0     \n",
       "193  1-Jan-2022  Twitterworks    Valentia Ledson  1010.0     \n",
       "194      Hotels           NaN                NaN     NaN     "
      ]
     },
     "metadata": {},
     "output_type": "display_data"
    },
    {
     "name": "stdout",
     "output_type": "stream",
     "text": [
      "5 random rows of the dataset: \n"
     ]
    },
    {
     "data": {
      "text/html": [
       "<div>\n",
       "<style scoped>\n",
       "    .dataframe tbody tr th:only-of-type {\n",
       "        vertical-align: middle;\n",
       "    }\n",
       "\n",
       "    .dataframe tbody tr th {\n",
       "        vertical-align: top;\n",
       "    }\n",
       "\n",
       "    .dataframe thead th {\n",
       "        text-align: right;\n",
       "    }\n",
       "</style>\n",
       "<table border=\"1\" class=\"dataframe\">\n",
       "  <thead>\n",
       "    <tr style=\"text-align: left;\">\n",
       "      <th></th>\n",
       "      <th>Date</th>\n",
       "      <th>Company</th>\n",
       "      <th>Person Name</th>\n",
       "      <th>Room number</th>\n",
       "    </tr>\n",
       "  </thead>\n",
       "  <tbody>\n",
       "    <tr>\n",
       "      <th>169</th>\n",
       "      <td>1-Jan-2022</td>\n",
       "      <td>Skinix</td>\n",
       "      <td>Julianne Ghelardi</td>\n",
       "      <td>5004.0</td>\n",
       "    </tr>\n",
       "    <tr>\n",
       "      <th>180</th>\n",
       "      <td>1-Jan-2022</td>\n",
       "      <td>Aimbo</td>\n",
       "      <td>Ashil Conichie</td>\n",
       "      <td>1014.0</td>\n",
       "    </tr>\n",
       "    <tr>\n",
       "      <th>40</th>\n",
       "      <td>1-Jan-2022</td>\n",
       "      <td>Kimia</td>\n",
       "      <td>Lottie Barnsdall</td>\n",
       "      <td>2014.0</td>\n",
       "    </tr>\n",
       "    <tr>\n",
       "      <th>70</th>\n",
       "      <td>1-Jan-2022</td>\n",
       "      <td>Meevee</td>\n",
       "      <td>Rodrique Brockbank</td>\n",
       "      <td>2013.0</td>\n",
       "    </tr>\n",
       "    <tr>\n",
       "      <th>4</th>\n",
       "      <td>1-Jan-2022</td>\n",
       "      <td>Rhyzio</td>\n",
       "      <td>Lyndell Tice</td>\n",
       "      <td>1006.0</td>\n",
       "    </tr>\n",
       "  </tbody>\n",
       "</table>\n",
       "</div>"
      ],
      "text/plain": [
       "    Date        Company Person Name          Room number\n",
       "169  1-Jan-2022  Skinix   Julianne Ghelardi  5004.0     \n",
       "180  1-Jan-2022   Aimbo      Ashil Conichie  1014.0     \n",
       "40   1-Jan-2022   Kimia    Lottie Barnsdall  2014.0     \n",
       "70   1-Jan-2022  Meevee  Rodrique Brockbank  2013.0     \n",
       "4    1-Jan-2022  Rhyzio        Lyndell Tice  1006.0     "
      ]
     },
     "metadata": {},
     "output_type": "display_data"
    }
   ],
   "source": [
    "#loading the data and a quick scan\n",
    "df = pd.read_csv(\"hotel-booking-data.txt\", delimiter = \"\\t\")\n",
    "\n",
    "print(\"Shape (rows, columns) : \", df.shape)\n",
    "print(\"\\nColumn names: \")\n",
    "print(df.columns.tolist())\n",
    "\n",
    "\n",
    "print(\"First 5 rows of the dataset: \")\n",
    "display(df.head(5))\n",
    "print(\"Last 5 rows of the dataset: \")\n",
    "display(df.tail(5))\n",
    "print(\"5 random rows of the dataset: \")\n",
    "display(df.sample(5, random_state = 37))\n"
   ]
  },
  {
   "cell_type": "code",
   "execution_count": 74,
   "id": "18c7e756",
   "metadata": {},
   "outputs": [
    {
     "name": "stdout",
     "output_type": "stream",
     "text": [
      "\n",
      "Info summary: \n",
      "<class 'pandas.core.frame.DataFrame'>\n",
      "RangeIndex: 195 entries, 0 to 194\n",
      "Data columns (total 4 columns):\n",
      " #   Column       Non-Null Count  Dtype  \n",
      "---  ------       --------------  -----  \n",
      " 0   Date         195 non-null    object \n",
      " 1   Company      134 non-null    object \n",
      " 2   Person Name  153 non-null    object \n",
      " 3   Room number  153 non-null    float64\n",
      "dtypes: float64(1), object(3)\n",
      "memory usage: 6.2+ KB\n"
     ]
    }
   ],
   "source": [
    "#general information about the dataset\n",
    "print(\"\\nInfo summary: \")\n",
    "df.info()\n"
   ]
  },
  {
   "cell_type": "code",
   "execution_count": 76,
   "id": "b4f1b0af",
   "metadata": {},
   "outputs": [
    {
     "name": "stdout",
     "output_type": "stream",
     "text": [
      "Numeric summary: \n"
     ]
    },
    {
     "data": {
      "text/html": [
       "<div>\n",
       "<style scoped>\n",
       "    .dataframe tbody tr th:only-of-type {\n",
       "        vertical-align: middle;\n",
       "    }\n",
       "\n",
       "    .dataframe tbody tr th {\n",
       "        vertical-align: top;\n",
       "    }\n",
       "\n",
       "    .dataframe thead th {\n",
       "        text-align: right;\n",
       "    }\n",
       "</style>\n",
       "<table border=\"1\" class=\"dataframe\">\n",
       "  <thead>\n",
       "    <tr style=\"text-align: left;\">\n",
       "      <th></th>\n",
       "      <th>Room number</th>\n",
       "    </tr>\n",
       "  </thead>\n",
       "  <tbody>\n",
       "    <tr>\n",
       "      <th>count</th>\n",
       "      <td>153.000000</td>\n",
       "    </tr>\n",
       "    <tr>\n",
       "      <th>mean</th>\n",
       "      <td>3079.326797</td>\n",
       "    </tr>\n",
       "    <tr>\n",
       "      <th>std</th>\n",
       "      <td>1718.791186</td>\n",
       "    </tr>\n",
       "    <tr>\n",
       "      <th>min</th>\n",
       "      <td>1001.000000</td>\n",
       "    </tr>\n",
       "    <tr>\n",
       "      <th>25%</th>\n",
       "      <td>2001.000000</td>\n",
       "    </tr>\n",
       "    <tr>\n",
       "      <th>50%</th>\n",
       "      <td>3008.000000</td>\n",
       "    </tr>\n",
       "    <tr>\n",
       "      <th>75%</th>\n",
       "      <td>4010.000000</td>\n",
       "    </tr>\n",
       "    <tr>\n",
       "      <th>max</th>\n",
       "      <td>7002.000000</td>\n",
       "    </tr>\n",
       "  </tbody>\n",
       "</table>\n",
       "</div>"
      ],
      "text/plain": [
       "       Room number\n",
       "count   153.000000\n",
       "mean   3079.326797\n",
       "std    1718.791186\n",
       "min    1001.000000\n",
       "25%    2001.000000\n",
       "50%    3008.000000\n",
       "75%    4010.000000\n",
       "max    7002.000000"
      ]
     },
     "metadata": {},
     "output_type": "display_data"
    },
    {
     "name": "stdout",
     "output_type": "stream",
     "text": [
      "Categorial summary: \n"
     ]
    },
    {
     "data": {
      "text/html": [
       "<div>\n",
       "<style scoped>\n",
       "    .dataframe tbody tr th:only-of-type {\n",
       "        vertical-align: middle;\n",
       "    }\n",
       "\n",
       "    .dataframe tbody tr th {\n",
       "        vertical-align: top;\n",
       "    }\n",
       "\n",
       "    .dataframe thead th {\n",
       "        text-align: right;\n",
       "    }\n",
       "</style>\n",
       "<table border=\"1\" class=\"dataframe\">\n",
       "  <thead>\n",
       "    <tr style=\"text-align: left;\">\n",
       "      <th></th>\n",
       "      <th>Date</th>\n",
       "      <th>Company</th>\n",
       "      <th>Person Name</th>\n",
       "    </tr>\n",
       "  </thead>\n",
       "  <tbody>\n",
       "    <tr>\n",
       "      <th>count</th>\n",
       "      <td>195</td>\n",
       "      <td>134</td>\n",
       "      <td>153</td>\n",
       "    </tr>\n",
       "    <tr>\n",
       "      <th>unique</th>\n",
       "      <td>6</td>\n",
       "      <td>114</td>\n",
       "      <td>153</td>\n",
       "    </tr>\n",
       "    <tr>\n",
       "      <th>top</th>\n",
       "      <td>1-Jan-2022</td>\n",
       "      <td>Leexo</td>\n",
       "      <td>Anatole Ridehalgh</td>\n",
       "    </tr>\n",
       "    <tr>\n",
       "      <th>freq</th>\n",
       "      <td>153</td>\n",
       "      <td>3</td>\n",
       "      <td>1</td>\n",
       "    </tr>\n",
       "  </tbody>\n",
       "</table>\n",
       "</div>"
      ],
      "text/plain": [
       "       Date        Company Person Name       \n",
       "count          195    134                 153\n",
       "unique           6    114                 153\n",
       "top     1-Jan-2022  Leexo   Anatole Ridehalgh\n",
       "freq           153      3                   1"
      ]
     },
     "metadata": {},
     "output_type": "display_data"
    },
    {
     "name": "stdout",
     "output_type": "stream",
     "text": [
      "Missing values per cloumn: \n",
      "Date            0\n",
      "Person Name    42\n",
      "Room number    42\n",
      "Company        61\n",
      "dtype: int64\n"
     ]
    }
   ],
   "source": [
    "#descriptive analysis\n",
    "print(\"Numeric summary: \")\n",
    "display(df.describe())\n",
    "\n",
    "print(\"Categorial summary: \")\n",
    "display(df.describe(include = \"object\"))\n",
    "\n",
    "print(\"Missing values per cloumn: \")\n",
    "print(df.isnull().sum().sort_values())"
   ]
  },
  {
   "cell_type": "code",
   "execution_count": 81,
   "id": "3e7f9a11",
   "metadata": {},
   "outputs": [
    {
     "name": "stdout",
     "output_type": "stream",
     "text": [
      "Unique values per column: \n"
     ]
    },
    {
     "data": {
      "text/plain": [
       "Date             6\n",
       "Company        114\n",
       "Person Name    153\n",
       "Room number     60\n",
       "dtype: int64"
      ]
     },
     "execution_count": 81,
     "metadata": {},
     "output_type": "execute_result"
    }
   ],
   "source": [
    "#check unique values\n",
    "print(\"Unique values per column: \")\n",
    "df.nunique()"
   ]
  },
  {
   "cell_type": "code",
   "execution_count": null,
   "id": "ffd41473",
   "metadata": {},
   "outputs": [
    {
     "data": {
      "image/png": "[encoded data removed]",
      "text/plain": [
       "<Figure size 800x400 with 1 Axes>"
      ]
     },
     "metadata": {},
     "output_type": "display_data"
    }
   ],
   "source": [
    "# Top 10 companies by count(Categorical column):\n",
    "if \"Company\" in df.columns:\n",
    "    df[\"Company\"].value_counts().head(10).plot(\n",
    "        kind= \"bar\", figsize =(8,4), title = \"Top 10 Companies\"  \n",
    "    )\n",
    "    plt.xlabel(\"Company\")\n",
    "    plt.ylabel(\"Count\")\n",
    "    plt.show()"
   ]
  },
  {
   "cell_type": "code",
   "execution_count": null,
   "id": "0e617177",
   "metadata": {},
   "outputs": [
    {
     "data": {
      "image/png": "[encoded data removed]",
      "text/plain": [
       "<Figure size 800x400 with 1 Axes>"
      ]
     },
     "metadata": {},
     "output_type": "display_data"
    }
   ],
   "source": [
    "#distribution on room number (numerical column):()\n",
    "if \"Room number\" in df.columns:\n",
    "    df[\"Room number\"].dropna().plot(kind=\"hist\", bins = 20, figsize = (8,4), title=\"Room Number Distribution\")\n",
    "    plt.xlabel(\"Room Number\")\n",
    "    plt.ylabel(\"Frequency\")\n",
    "    plt.show()"
   ]
  },
  {
   "cell_type": "markdown",
   "id": "6458cc31",
   "metadata": {},
   "source": [
    "## Key Observations in the data:\n",
    "\n",
    "Dataset contains 195 rows, 4 columns.\n",
    "\n",
    "Missing values:\n",
    "\n",
    "1: Company: 61 missing\n",
    "\n",
    "2: Person Name: 42 missing\n",
    "\n",
    "3: Room number: 42 missing\n",
    "\n",
    "4: Data is stored as text (object type), not as datetime.\n",
    "\n",
    "5: Room number is numeric but should be treated as categorical (rooms are identifiers, not quantities).\n",
    "\n",
    "6: Company has many unique values, with a few frequent ones dominating.\n",
    "\n",
    "Simple plots show:\n",
    "\n",
    "  1: Company distribution is flat, with most top companies having only 2, 3 bookings each.\n",
    "  \n",
    "  2: Room number distribution looks scattered, not continuous like real numeric data."
   ]
  }
 ],
 "metadata": {
  "kernelspec": {
   "display_name": ".venv (3.13.5)",
   "language": "python",
   "name": "python3"
  },
  "language_info": {
   "codemirror_mode": {
    "name": "ipython",
    "version": 3
   },
   "file_extension": ".py",
   "mimetype": "text/x-python",
   "name": "python",
   "nbconvert_exporter": "python",
   "pygments_lexer": "ipython3",
   "version": "3.13.5"
  }
 },
 "nbformat": 4,
 "nbformat_minor": 5
}
